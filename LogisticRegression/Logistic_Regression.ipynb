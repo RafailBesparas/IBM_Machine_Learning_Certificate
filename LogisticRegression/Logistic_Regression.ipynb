{
 "cells": [
  {
   "cell_type": "markdown",
   "id": "44911dba",
   "metadata": {},
   "source": [
    "# Logistic Regression\n",
    "\n",
    "Understanding logistic regression and being able to apply it to classification tasks is essential because logistic regression models form the fundamentals of neural networks.\n",
    "\n",
    "We use a real-world nutrition dataset designed to support dietary recommendations for people with diabetes. Each entry provides detailed nutritional information for a food item (e.g., carbohydrates, sugar, fat, protein, fiber, etc.).\n",
    "\n",
    "- The goal is to build a classification model that predicts whether a diabetic patient should consume a given food:\n",
    "1. ✅ More Often\n",
    "2. ⚠️ In Moderation\n",
    "3. ❌ Less Often\n",
    "\n",
    "These labels are based on dietary suitability for diabetes management.\n",
    "\n"
   ]
  },
  {
   "cell_type": "code",
   "execution_count": 1,
   "id": "9321d6c5",
   "metadata": {},
   "outputs": [],
   "source": [
    "import pandas as pd\n",
    "import numpy as np\n",
    "from sklearn.preprocessing import OneHotEncoder, LabelEncoder, MinMaxScaler\n",
    "from sklearn.model_selection import train_test_split, learning_curve\n",
    "from sklearn.linear_model import LogisticRegression\n",
    "from sklearn import metrics\n",
    "from sklearn.metrics import classification_report, accuracy_score, confusion_matrix,ConfusionMatrixDisplay, precision_recall_fscore_support, precision_score, recall_score\n",
    "import matplotlib.pyplot as plt\n",
    "import seaborn as sns\n",
    "%matplotlib inline"
   ]
  },
  {
   "cell_type": "code",
   "execution_count": 2,
   "id": "108c0c64",
   "metadata": {},
   "outputs": [],
   "source": [
    "# also set a random state\n",
    "rs = 42"
   ]
  },
  {
   "cell_type": "markdown",
   "id": "8a5158b5",
   "metadata": {},
   "source": [
    "### Exploratory Data Analysis(EDA) and Feature Engineering"
   ]
  },
  {
   "cell_type": "code",
   "execution_count": 3,
   "id": "a83be709",
   "metadata": {},
   "outputs": [],
   "source": [
    "# Load the dataset\n",
    "dataset_url = \"https://cf-courses-data.s3.us.cloud-object-storage.appdomain.cloud/IBM-ML241EN-SkillsNetwork/labs/datasets/food_items.csv\"\n",
    "food_df = pd.read_csv(dataset_url)"
   ]
  },
  {
   "cell_type": "code",
   "execution_count": 4,
   "id": "b426cf4d",
   "metadata": {},
   "outputs": [
    {
     "data": {
      "text/plain": [
       "Calories               float64\n",
       "Total Fat                int64\n",
       "Saturated Fat          float64\n",
       "Monounsaturated Fat    float64\n",
       "Polyunsaturated Fat    float64\n",
       "Trans Fat              float64\n",
       "Cholesterol              int64\n",
       "Sodium                 float64\n",
       "Total Carbohydrate     float64\n",
       "Dietary Fiber          float64\n",
       "Sugars                 float64\n",
       "Sugar Alcohol            int64\n",
       "Protein                float64\n",
       "Vitamin A                int64\n",
       "Vitamin C                int64\n",
       "Calcium                  int64\n",
       "Iron                     int64\n",
       "class                   object\n",
       "dtype: object"
      ]
     },
     "execution_count": 4,
     "metadata": {},
     "output_type": "execute_result"
    }
   ],
   "source": [
    "food_df.dtypes"
   ]
  },
  {
   "cell_type": "code",
   "execution_count": 6,
   "id": "e7232edf",
   "metadata": {},
   "outputs": [
    {
     "data": {
      "text/html": [
       "<div>\n",
       "<style scoped>\n",
       "    .dataframe tbody tr th:only-of-type {\n",
       "        vertical-align: middle;\n",
       "    }\n",
       "\n",
       "    .dataframe tbody tr th {\n",
       "        vertical-align: top;\n",
       "    }\n",
       "\n",
       "    .dataframe thead th {\n",
       "        text-align: right;\n",
       "    }\n",
       "</style>\n",
       "<table border=\"1\" class=\"dataframe\">\n",
       "  <thead>\n",
       "    <tr style=\"text-align: right;\">\n",
       "      <th></th>\n",
       "      <th>Calories</th>\n",
       "      <th>Total Fat</th>\n",
       "      <th>Saturated Fat</th>\n",
       "      <th>Monounsaturated Fat</th>\n",
       "      <th>Polyunsaturated Fat</th>\n",
       "      <th>Trans Fat</th>\n",
       "      <th>Cholesterol</th>\n",
       "      <th>Sodium</th>\n",
       "      <th>Total Carbohydrate</th>\n",
       "      <th>Dietary Fiber</th>\n",
       "      <th>Sugars</th>\n",
       "      <th>Sugar Alcohol</th>\n",
       "      <th>Protein</th>\n",
       "      <th>Vitamin A</th>\n",
       "      <th>Vitamin C</th>\n",
       "      <th>Calcium</th>\n",
       "      <th>Iron</th>\n",
       "      <th>class</th>\n",
       "    </tr>\n",
       "  </thead>\n",
       "  <tbody>\n",
       "    <tr>\n",
       "      <th>0</th>\n",
       "      <td>149.0</td>\n",
       "      <td>0</td>\n",
       "      <td>0.0</td>\n",
       "      <td>0.0</td>\n",
       "      <td>0.0</td>\n",
       "      <td>0.0</td>\n",
       "      <td>0</td>\n",
       "      <td>9.0</td>\n",
       "      <td>9.8</td>\n",
       "      <td>0.0</td>\n",
       "      <td>0.0</td>\n",
       "      <td>0</td>\n",
       "      <td>1.3</td>\n",
       "      <td>0</td>\n",
       "      <td>0</td>\n",
       "      <td>0</td>\n",
       "      <td>0</td>\n",
       "      <td>'In Moderation'</td>\n",
       "    </tr>\n",
       "    <tr>\n",
       "      <th>1</th>\n",
       "      <td>123.0</td>\n",
       "      <td>0</td>\n",
       "      <td>0.0</td>\n",
       "      <td>0.0</td>\n",
       "      <td>0.0</td>\n",
       "      <td>0.0</td>\n",
       "      <td>0</td>\n",
       "      <td>5.0</td>\n",
       "      <td>6.6</td>\n",
       "      <td>0.0</td>\n",
       "      <td>0.0</td>\n",
       "      <td>0</td>\n",
       "      <td>0.8</td>\n",
       "      <td>0</td>\n",
       "      <td>0</td>\n",
       "      <td>0</td>\n",
       "      <td>0</td>\n",
       "      <td>'In Moderation'</td>\n",
       "    </tr>\n",
       "  </tbody>\n",
       "</table>\n",
       "</div>"
      ],
      "text/plain": [
       "   Calories  Total Fat  Saturated Fat  Monounsaturated Fat  \\\n",
       "0     149.0          0            0.0                  0.0   \n",
       "1     123.0          0            0.0                  0.0   \n",
       "\n",
       "   Polyunsaturated Fat  Trans Fat  Cholesterol  Sodium  Total Carbohydrate  \\\n",
       "0                  0.0        0.0            0     9.0                 9.8   \n",
       "1                  0.0        0.0            0     5.0                 6.6   \n",
       "\n",
       "   Dietary Fiber  Sugars  Sugar Alcohol  Protein  Vitamin A  Vitamin C  \\\n",
       "0            0.0     0.0              0      1.3          0          0   \n",
       "1            0.0     0.0              0      0.8          0          0   \n",
       "\n",
       "   Calcium  Iron            class  \n",
       "0        0     0  'In Moderation'  \n",
       "1        0     0  'In Moderation'  "
      ]
     },
     "execution_count": 6,
     "metadata": {},
     "output_type": "execute_result"
    }
   ],
   "source": [
    "food_df.head(2)"
   ]
  },
  {
   "cell_type": "code",
   "execution_count": 7,
   "id": "33bd42a8",
   "metadata": {},
   "outputs": [
    {
     "data": {
      "text/plain": [
       "['Calories',\n",
       " 'Total Fat',\n",
       " 'Saturated Fat',\n",
       " 'Monounsaturated Fat',\n",
       " 'Polyunsaturated Fat',\n",
       " 'Trans Fat',\n",
       " 'Cholesterol',\n",
       " 'Sodium',\n",
       " 'Total Carbohydrate',\n",
       " 'Dietary Fiber',\n",
       " 'Sugars',\n",
       " 'Sugar Alcohol',\n",
       " 'Protein',\n",
       " 'Vitamin A',\n",
       " 'Vitamin C',\n",
       " 'Calcium',\n",
       " 'Iron']"
      ]
     },
     "execution_count": 7,
     "metadata": {},
     "output_type": "execute_result"
    }
   ],
   "source": [
    "# Get the row entries with col 0 to -1 (16).\n",
    "feature_cols = list(food_df.iloc[:, :-1].columns)\n",
    "feature_cols"
   ]
  },
  {
   "cell_type": "code",
   "execution_count": 8,
   "id": "a8d59c74",
   "metadata": {},
   "outputs": [
    {
     "data": {
      "text/html": [
       "<div>\n",
       "<style scoped>\n",
       "    .dataframe tbody tr th:only-of-type {\n",
       "        vertical-align: middle;\n",
       "    }\n",
       "\n",
       "    .dataframe tbody tr th {\n",
       "        vertical-align: top;\n",
       "    }\n",
       "\n",
       "    .dataframe thead th {\n",
       "        text-align: right;\n",
       "    }\n",
       "</style>\n",
       "<table border=\"1\" class=\"dataframe\">\n",
       "  <thead>\n",
       "    <tr style=\"text-align: right;\">\n",
       "      <th></th>\n",
       "      <th>Calories</th>\n",
       "      <th>Total Fat</th>\n",
       "      <th>Saturated Fat</th>\n",
       "      <th>Monounsaturated Fat</th>\n",
       "      <th>Polyunsaturated Fat</th>\n",
       "      <th>Trans Fat</th>\n",
       "      <th>Cholesterol</th>\n",
       "      <th>Sodium</th>\n",
       "      <th>Total Carbohydrate</th>\n",
       "      <th>Dietary Fiber</th>\n",
       "      <th>Sugars</th>\n",
       "      <th>Sugar Alcohol</th>\n",
       "      <th>Protein</th>\n",
       "      <th>Vitamin A</th>\n",
       "      <th>Vitamin C</th>\n",
       "      <th>Calcium</th>\n",
       "      <th>Iron</th>\n",
       "    </tr>\n",
       "  </thead>\n",
       "  <tbody>\n",
       "    <tr>\n",
       "      <th>count</th>\n",
       "      <td>13260.000000</td>\n",
       "      <td>13260.000000</td>\n",
       "      <td>13260.000000</td>\n",
       "      <td>13260.000000</td>\n",
       "      <td>13260.000000</td>\n",
       "      <td>13260.000000</td>\n",
       "      <td>13260.000000</td>\n",
       "      <td>13260.000000</td>\n",
       "      <td>13260.000000</td>\n",
       "      <td>13260.000000</td>\n",
       "      <td>13260.000000</td>\n",
       "      <td>13260.000000</td>\n",
       "      <td>13260.000000</td>\n",
       "      <td>13260.000000</td>\n",
       "      <td>13260.000000</td>\n",
       "      <td>13260.000000</td>\n",
       "      <td>13260.000000</td>\n",
       "    </tr>\n",
       "    <tr>\n",
       "      <th>mean</th>\n",
       "      <td>133.861086</td>\n",
       "      <td>4.475264</td>\n",
       "      <td>1.450617</td>\n",
       "      <td>0.338069</td>\n",
       "      <td>0.254660</td>\n",
       "      <td>0.047459</td>\n",
       "      <td>8.857692</td>\n",
       "      <td>241.867142</td>\n",
       "      <td>18.232020</td>\n",
       "      <td>1.602971</td>\n",
       "      <td>6.645234</td>\n",
       "      <td>0.117949</td>\n",
       "      <td>4.661333</td>\n",
       "      <td>6.287632</td>\n",
       "      <td>6.741855</td>\n",
       "      <td>5.175264</td>\n",
       "      <td>5.235671</td>\n",
       "    </tr>\n",
       "    <tr>\n",
       "      <th>std</th>\n",
       "      <td>94.227650</td>\n",
       "      <td>5.386340</td>\n",
       "      <td>2.410318</td>\n",
       "      <td>1.345852</td>\n",
       "      <td>2.230586</td>\n",
       "      <td>0.321402</td>\n",
       "      <td>20.976530</td>\n",
       "      <td>272.284363</td>\n",
       "      <td>14.786316</td>\n",
       "      <td>3.363879</td>\n",
       "      <td>8.328465</td>\n",
       "      <td>1.121529</td>\n",
       "      <td>5.611143</td>\n",
       "      <td>18.374191</td>\n",
       "      <td>23.785100</td>\n",
       "      <td>8.779637</td>\n",
       "      <td>9.119459</td>\n",
       "    </tr>\n",
       "    <tr>\n",
       "      <th>min</th>\n",
       "      <td>0.000000</td>\n",
       "      <td>0.000000</td>\n",
       "      <td>0.000000</td>\n",
       "      <td>0.000000</td>\n",
       "      <td>0.000000</td>\n",
       "      <td>0.000000</td>\n",
       "      <td>0.000000</td>\n",
       "      <td>0.000000</td>\n",
       "      <td>0.000000</td>\n",
       "      <td>0.000000</td>\n",
       "      <td>0.000000</td>\n",
       "      <td>0.000000</td>\n",
       "      <td>0.000000</td>\n",
       "      <td>0.000000</td>\n",
       "      <td>0.000000</td>\n",
       "      <td>0.000000</td>\n",
       "      <td>0.000000</td>\n",
       "    </tr>\n",
       "    <tr>\n",
       "      <th>25%</th>\n",
       "      <td>70.000000</td>\n",
       "      <td>0.000000</td>\n",
       "      <td>0.000000</td>\n",
       "      <td>0.000000</td>\n",
       "      <td>0.000000</td>\n",
       "      <td>0.000000</td>\n",
       "      <td>0.000000</td>\n",
       "      <td>40.000000</td>\n",
       "      <td>5.000000</td>\n",
       "      <td>0.000000</td>\n",
       "      <td>0.000000</td>\n",
       "      <td>0.000000</td>\n",
       "      <td>1.000000</td>\n",
       "      <td>0.000000</td>\n",
       "      <td>0.000000</td>\n",
       "      <td>0.000000</td>\n",
       "      <td>0.000000</td>\n",
       "    </tr>\n",
       "    <tr>\n",
       "      <th>50%</th>\n",
       "      <td>120.000000</td>\n",
       "      <td>3.000000</td>\n",
       "      <td>0.500000</td>\n",
       "      <td>0.000000</td>\n",
       "      <td>0.000000</td>\n",
       "      <td>0.000000</td>\n",
       "      <td>0.000000</td>\n",
       "      <td>135.000000</td>\n",
       "      <td>17.000000</td>\n",
       "      <td>1.000000</td>\n",
       "      <td>3.000000</td>\n",
       "      <td>0.000000</td>\n",
       "      <td>3.000000</td>\n",
       "      <td>0.000000</td>\n",
       "      <td>0.000000</td>\n",
       "      <td>2.000000</td>\n",
       "      <td>2.000000</td>\n",
       "    </tr>\n",
       "    <tr>\n",
       "      <th>75%</th>\n",
       "      <td>180.000000</td>\n",
       "      <td>7.000000</td>\n",
       "      <td>2.000000</td>\n",
       "      <td>0.000000</td>\n",
       "      <td>0.000000</td>\n",
       "      <td>0.000000</td>\n",
       "      <td>10.000000</td>\n",
       "      <td>370.000000</td>\n",
       "      <td>27.000000</td>\n",
       "      <td>2.000000</td>\n",
       "      <td>11.000000</td>\n",
       "      <td>0.000000</td>\n",
       "      <td>7.000000</td>\n",
       "      <td>6.000000</td>\n",
       "      <td>2.000000</td>\n",
       "      <td>6.000000</td>\n",
       "      <td>8.000000</td>\n",
       "    </tr>\n",
       "    <tr>\n",
       "      <th>max</th>\n",
       "      <td>2210.000000</td>\n",
       "      <td>43.000000</td>\n",
       "      <td>22.000000</td>\n",
       "      <td>40.000000</td>\n",
       "      <td>235.000000</td>\n",
       "      <td>11.000000</td>\n",
       "      <td>450.000000</td>\n",
       "      <td>2431.000000</td>\n",
       "      <td>270.000000</td>\n",
       "      <td>305.000000</td>\n",
       "      <td>115.000000</td>\n",
       "      <td>31.000000</td>\n",
       "      <td>70.000000</td>\n",
       "      <td>622.000000</td>\n",
       "      <td>1000.000000</td>\n",
       "      <td>110.000000</td>\n",
       "      <td>170.000000</td>\n",
       "    </tr>\n",
       "  </tbody>\n",
       "</table>\n",
       "</div>"
      ],
      "text/plain": [
       "           Calories     Total Fat  Saturated Fat  Monounsaturated Fat  \\\n",
       "count  13260.000000  13260.000000   13260.000000         13260.000000   \n",
       "mean     133.861086      4.475264       1.450617             0.338069   \n",
       "std       94.227650      5.386340       2.410318             1.345852   \n",
       "min        0.000000      0.000000       0.000000             0.000000   \n",
       "25%       70.000000      0.000000       0.000000             0.000000   \n",
       "50%      120.000000      3.000000       0.500000             0.000000   \n",
       "75%      180.000000      7.000000       2.000000             0.000000   \n",
       "max     2210.000000     43.000000      22.000000            40.000000   \n",
       "\n",
       "       Polyunsaturated Fat     Trans Fat   Cholesterol        Sodium  \\\n",
       "count         13260.000000  13260.000000  13260.000000  13260.000000   \n",
       "mean              0.254660      0.047459      8.857692    241.867142   \n",
       "std               2.230586      0.321402     20.976530    272.284363   \n",
       "min               0.000000      0.000000      0.000000      0.000000   \n",
       "25%               0.000000      0.000000      0.000000     40.000000   \n",
       "50%               0.000000      0.000000      0.000000    135.000000   \n",
       "75%               0.000000      0.000000     10.000000    370.000000   \n",
       "max             235.000000     11.000000    450.000000   2431.000000   \n",
       "\n",
       "       Total Carbohydrate  Dietary Fiber        Sugars  Sugar Alcohol  \\\n",
       "count        13260.000000   13260.000000  13260.000000   13260.000000   \n",
       "mean            18.232020       1.602971      6.645234       0.117949   \n",
       "std             14.786316       3.363879      8.328465       1.121529   \n",
       "min              0.000000       0.000000      0.000000       0.000000   \n",
       "25%              5.000000       0.000000      0.000000       0.000000   \n",
       "50%             17.000000       1.000000      3.000000       0.000000   \n",
       "75%             27.000000       2.000000     11.000000       0.000000   \n",
       "max            270.000000     305.000000    115.000000      31.000000   \n",
       "\n",
       "            Protein     Vitamin A     Vitamin C       Calcium          Iron  \n",
       "count  13260.000000  13260.000000  13260.000000  13260.000000  13260.000000  \n",
       "mean       4.661333      6.287632      6.741855      5.175264      5.235671  \n",
       "std        5.611143     18.374191     23.785100      8.779637      9.119459  \n",
       "min        0.000000      0.000000      0.000000      0.000000      0.000000  \n",
       "25%        1.000000      0.000000      0.000000      0.000000      0.000000  \n",
       "50%        3.000000      0.000000      0.000000      2.000000      2.000000  \n",
       "75%        7.000000      6.000000      2.000000      6.000000      8.000000  \n",
       "max       70.000000    622.000000   1000.000000    110.000000    170.000000  "
      ]
     },
     "execution_count": 8,
     "metadata": {},
     "output_type": "execute_result"
    }
   ],
   "source": [
    "# Get descriptive statistics\n",
    "food_df.iloc[:, :-1].describe()"
   ]
  },
  {
   "cell_type": "markdown",
   "id": "18cb354d",
   "metadata": {},
   "source": [
    "## Feature Overview & Preprocessing\n",
    "\n",
    "As shown above, the dataset includes 17 nutritional features for each food item — such as Calories, Total Fat, Protein, Sugar, and more. All of these are numeric values representing the nutrient content.\n",
    "\n",
    "To prepare the data for training a logistic regression model, we apply feature scaling. This ensures that all variables are on the same scale, which is important when comparing their influence (coefficients) in the model. The scaling process is handled in the feature engineering section."
   ]
  },
  {
   "cell_type": "code",
   "execution_count": 9,
   "id": "a4918eb3",
   "metadata": {},
   "outputs": [
    {
     "data": {
      "text/plain": [
       "class          \n",
       "'In Moderation'    0.501433\n",
       "'Less Often'       0.423906\n",
       "'More Often'       0.074661\n",
       "Name: proportion, dtype: float64"
      ]
     },
     "execution_count": 9,
     "metadata": {},
     "output_type": "execute_result"
    }
   ],
   "source": [
    "# # Get the row entries with the last col 'class'\n",
    "food_df.iloc[:, -1:].value_counts(normalize=True)"
   ]
  },
  {
   "cell_type": "code",
   "execution_count": 10,
   "id": "a9a94a8b",
   "metadata": {},
   "outputs": [
    {
     "data": {
      "text/plain": [
       "<Axes: xlabel='class'>"
      ]
     },
     "execution_count": 10,
     "metadata": {},
     "output_type": "execute_result"
    },
    {
     "data": {
      "image/png": "[encoded data removed]",
      "text/plain": [
       "<Figure size 640x480 with 1 Axes>"
      ]
     },
     "metadata": {},
     "output_type": "display_data"
    }
   ],
   "source": [
    "food_df.iloc[:, -1:].value_counts().plot.bar(color=['yellow', 'red', 'green'])"
   ]
  },
  {
   "cell_type": "markdown",
   "id": "b156954e",
   "metadata": {},
   "source": [
    "# Class Distribution & Motivation\n",
    "From the bar chart above, we observe that the dataset contains three target classes:\n",
    "\n",
    "🟡 In Moderation\n",
    "\n",
    "🔴 Less Often\n",
    "\n",
    "🟢 More Often\n",
    "\n",
    "These classes are imbalanced, with most food items falling under the In Moderation and Less Often categories. This imbalance reflects the real-world challenge diabetic patients face — most foods require careful consideration or restriction, making dietary choices difficult.\n",
    "\n",
    "To support better decision-making, we aim to build a machine learning model that can recommend whether a food item should be consumed more often, less often, or in moderation — based purely on its nutritional content.\n",
    "\n",
    "# Multinomial Logistic Regression\n",
    "Since our dataset has three target classes, we use a multinomial logistic regression model.\n",
    "\n",
    "A multinomial logistic regression is an extension of standard logistic regression that can handle more than two classes. Instead of predicting a single probability, the model calculates a set of log-odds (logits) for each class, which are then converted into a probability distribution across all possible classes. The class with the highest probability is selected as the prediction.\n",
    "\n",
    "Multinomial vs. One-vs-Rest Logistic Regression\n",
    "It’s important to note that multinomial logistic regression is not the same as the one-vs-rest (OvR) approach.\n",
    "\n",
    "In one-vs-rest, the model builds separate binary classifiers — one for each class.\n",
    "For example, a More Often classifier learns to distinguish between:\n",
    "\n",
    "More Often vs. Not More Often (i.e., In Moderation + Less Often)\n",
    "\n",
    "In contrast, multinomial logistic regression trains a single model that directly learns to assign probabilities across all three classes simultaneously, making it more suitable for mutually exclusive multi-class problems like ours.\n",
    "\n"
   ]
  },
  {
   "cell_type": "markdown",
   "id": "dc3aa01a",
   "metadata": {},
   "source": [
    "### Feature Engineering\n"
   ]
  },
  {
   "cell_type": "code",
   "execution_count": 11,
   "id": "370c1b9c",
   "metadata": {},
   "outputs": [],
   "source": [
    "X_raw = food_df.iloc[:, :-1]\n",
    "y_raw = food_df.iloc[:, -1:]"
   ]
  },
  {
   "cell_type": "markdown",
   "id": "ae281a60",
   "metadata": {},
   "source": [
    "### Feature Scaling\n",
    "Fortunately, all of the features in our dataset are already numeric, so we don’t need to encode or transform any categorical data.\n",
    "To prepare the features for model training, we simply scale them using the MinMaxScaler from scikit-learn.\n",
    "This ensures that all values fall within the same range (typically 0 to 1), which helps models like logistic regression perform more reliably."
   ]
  },
  {
   "cell_type": "code",
   "execution_count": 12,
   "id": "1ecac3bf",
   "metadata": {},
   "outputs": [
    {
     "name": "stdout",
     "output_type": "stream",
     "text": [
      "The range of feature inputs are within 0.0 to 1.0\n"
     ]
    }
   ],
   "source": [
    "# Create a MinMaxScaler object\n",
    "scaler = MinMaxScaler()\n",
    "\n",
    "# Scaling the raw input features\n",
    "X = scaler.fit_transform(X_raw)\n",
    "\n",
    "print(f\"The range of feature inputs are within {X.min()} to {X.max()}\")"
   ]
  },
  {
   "cell_type": "markdown",
   "id": "e0c7a2d8",
   "metadata": {},
   "source": [
    "# Encoding the Target Variable\n",
    "Our target variable y contains three class labels:\n",
    "In Moderation, Less Often, and More Often.\n",
    "\n",
    "Since machine learning models work with numeric values, we use LabelEncoder from scikit-learn to convert these string labels into integer-encoded classes:\n",
    "\n",
    "In Moderation → 0\n",
    "\n",
    "Less Often → 1\n",
    "\n",
    "More Often → 2\n",
    "\n",
    "This encoding step is essential for training classification models like logistic regression"
   ]
  },
  {
   "cell_type": "code",
   "execution_count": 13,
   "id": "9c115c1a",
   "metadata": {},
   "outputs": [],
   "source": [
    "# Create a LabelEncoder object\n",
    "label_encoder = LabelEncoder()\n",
    "\n",
    "# Encode the target variable\n",
    "y = label_encoder.fit_transform(y_raw.values.ravel())\n",
    "# Note that ravel() function flattens the vector."
   ]
  },
  {
   "cell_type": "markdown",
   "id": "7e6a2e47",
   "metadata": {},
   "source": [
    "After encoding, the target variable will contain only numeric values representing each class:\n",
    "\n",
    "0 → In Moderation\n",
    "\n",
    "1 → Less Often\n",
    "\n",
    "2 → More Often\n",
    "\n",
    "This numeric format allows the machine learning model to process and learn from the class labels effectively."
   ]
  },
  {
   "cell_type": "code",
   "execution_count": 15,
   "id": "2957efd9",
   "metadata": {},
   "outputs": [
    {
     "data": {
      "text/plain": [
       "(array([0, 1, 2]), array([6649, 5621,  990], dtype=int64))"
      ]
     },
     "execution_count": 15,
     "metadata": {},
     "output_type": "execute_result"
    }
   ],
   "source": [
    "np.unique(y, return_counts=True)"
   ]
  },
  {
   "cell_type": "markdown",
   "id": "af1a45c8",
   "metadata": {},
   "source": [
    "## Train logistic regression models\n",
    "\n",
    "Train-Test Split\n",
    "We begin by splitting the dataset into two parts:\n",
    "\n",
    "Training Set – used to train and possibly tune the machine learning models.\n",
    "\n",
    "Testing Set – used strictly to evaluate the final performance of the models on unseen data.\n",
    "\n",
    "💡 Note:\n",
    "In more advanced workflows, the training set can also be further split into:\n",
    "\n",
    "A training subset (to train the model), and\n",
    "\n",
    "A validation subset (to tune hyperparameters and prevent overfitting).\n",
    "\n",
    "This approach ensures that the model is evaluated fairly and generalizes well to new data."
   ]
  },
  {
   "cell_type": "code",
   "execution_count": 16,
   "id": "8c892eb8",
   "metadata": {},
   "outputs": [
    {
     "name": "stdout",
     "output_type": "stream",
     "text": [
      "Training dataset shape, X_train: (10608, 17), y_train: (10608,)\n",
      "Testing dataset shape, X_test: (2652, 17), y_test: (2652,)\n"
     ]
    }
   ],
   "source": [
    "# First, let's split the training and testing dataset\n",
    "X_train, X_test, y_train, y_test = train_test_split(X, y, test_size=0.2, stratify=y, random_state = rs)\n",
    "\n",
    "print(f\"Training dataset shape, X_train: {X_train.shape}, y_train: {y_train.shape}\")\n",
    "\n",
    "print(f\"Testing dataset shape, X_test: {X_test.shape}, y_test: {y_test.shape}\")"
   ]
  },
  {
   "cell_type": "markdown",
   "id": "b2825f7f",
   "metadata": {},
   "source": [
    "## L2 Regularization (Ridge)\n",
    "We apply an L2 penalty (also known as Ridge regularization) to the logistic regression model. This technique helps:\n",
    "\n",
    "Shrink model coefficients to avoid overfitting\n",
    "\n",
    "Keep all features in the model, unlike L1 (Lasso), which can remove some features entirely by setting their coefficients to zero\n",
    "\n",
    "In essence, L2 regularization makes the model more stable and generalizable, especially when working with many features or multicollinearity.\n",
    "\n"
   ]
  },
  {
   "cell_type": "code",
   "execution_count": 17,
   "id": "5b80660a",
   "metadata": {},
   "outputs": [],
   "source": [
    "# L2 penalty to shrink coefficients without removing any features from the model\n",
    "penalty= 'l2'\n",
    "# Our classification problem is multinomial\n",
    "multi_class = 'multinomial'\n",
    "# Use lbfgs for L2 penalty and multinomial classes\n",
    "solver = 'lbfgs'\n",
    "# Max iteration = 1000\n",
    "max_iter = 1000"
   ]
  },
  {
   "cell_type": "code",
   "execution_count": 18,
   "id": "c2d4b7fa",
   "metadata": {},
   "outputs": [],
   "source": [
    "# Define a logistic regression model with above arguments\n",
    "l2_model = LogisticRegression(random_state=rs, penalty=penalty, multi_class=multi_class, solver=solver, max_iter=max_iter)"
   ]
  },
  {
   "cell_type": "markdown",
   "id": "d5f907c5",
   "metadata": {},
   "source": [
    "## Evaluation Utility Function\n",
    "Since we may want to evaluate the model multiple times using different hyperparameter settings, we define a reusable utility function.\n",
    "\n",
    "This function takes the ground truth labels (y_test) and the predicted labels (preds), and returns a Python dict containing the following key evaluation metrics:\n",
    "\n",
    "✅ accuracy\n",
    "\n",
    "🎯 precision\n",
    "\n",
    "🔁 recall\n",
    "\n",
    "⚖️ f1score\n",
    "\n",
    "This makes it easy to compare different model configurations in a consistent and readable way."
   ]
  },
  {
   "cell_type": "code",
   "execution_count": 20,
   "id": "f7c3c80e",
   "metadata": {},
   "outputs": [
    {
     "name": "stderr",
     "output_type": "stream",
     "text": [
      "c:\\Users\\user\\Desktop\\algorithmic_trading\\venv\\Lib\\site-packages\\sklearn\\linear_model\\_logistic.py:1247: FutureWarning: 'multi_class' was deprecated in version 1.5 and will be removed in 1.7. From then on, it will always use 'multinomial'. Leave it to its default value to avoid this warning.\n",
      "  warnings.warn(\n"
     ]
    }
   ],
   "source": [
    "l2_model.fit(X_train, y_train)\n",
    "l2_preds = l2_model.predict(X_test)\n",
    "\n",
    "def evaluate_metrics(yt, yp):\n",
    "    results_pos = {}\n",
    "    results_pos['accuracy'] = accuracy_score(yt, yp)\n",
    "    precision, recall, f_beta, _ = precision_recall_fscore_support(yt, yp)\n",
    "    results_pos['recall'] = recall\n",
    "    results_pos['precision'] = precision\n",
    "    results_pos['f1score'] = f_beta\n",
    "    return results_pos"
   ]
  },
  {
   "cell_type": "code",
   "execution_count": 21,
   "id": "71dd3626",
   "metadata": {},
   "outputs": [
    {
     "data": {
      "text/plain": [
       "{'accuracy': 0.7801659125188537,\n",
       " 'recall': array([0.88345865, 0.74021352, 0.31313131]),\n",
       " 'precision': array([0.73300062, 0.85071575, 0.87323944]),\n",
       " 'f1score': array([0.80122741, 0.79162702, 0.46096654])}"
      ]
     },
     "execution_count": 21,
     "metadata": {},
     "output_type": "execute_result"
    }
   ],
   "source": [
    "evaluate_metrics(y_test, l2_preds)"
   ]
  },
  {
   "cell_type": "markdown",
   "id": "e49a7795",
   "metadata": {},
   "source": [
    "| **Metric**    | **Class**         | **Value**  | **Explanation**                                                              |\n",
    "| ------------- | ----------------- | ---------- | ---------------------------------------------------------------------------- |\n",
    "| **Accuracy**  | —                 | **0.7802** | Overall, the model correctly predicted **78.02%** of all samples.            |\n",
    "| **Recall**    | In Moderation (0) | 0.8835     | The model correctly identified **88.35%** of actual “In Moderation” items.   |\n",
    "|               | Less Often (1)    | 0.7402     | Detected **74.02%** of actual “Less Often” items.                            |\n",
    "|               | More Often (2)    | 0.3131     | Detected only **31.31%** of actual “More Often” items (low sensitivity).     |\n",
    "| **Precision** | In Moderation (0) | 0.7330     | Of the items predicted as “In Moderation,” **73.30%** were actually correct. |\n",
    "|               | Less Often (1)    | 0.8507     | Of the items predicted as “Less Often,” **85.07%** were correct.             |\n",
    "|               | More Often (2)    | 0.8732     | Very high precision: **87.32%** of “More Often” predictions were correct.    |\n",
    "| **F1 Score**  | In Moderation (0) | 0.8012     | Balanced performance between precision and recall for class 0.               |\n",
    "|               | Less Often (1)    | 0.7916     | Good overall balance for class 1.                                            |\n",
    "|               | More Often (2)    | 0.4610     | Lower F1 score due to poor recall, despite high precision.                   |\n"
   ]
  },
  {
   "cell_type": "markdown",
   "id": "90ee1fce",
   "metadata": {},
   "source": [
    "## Interpretation:\n",
    "The model performs well for classes 0 and 1.\n",
    "\n",
    "Class 2 (\"More Often\") shows high precision but very low recall, meaning the model rarely detects those samples but is accurate when it does.\n",
    "\n",
    "This may suggest a class imbalance or a need for better feature separation."
   ]
  },
  {
   "cell_type": "markdown",
   "id": "b81e46b4",
   "metadata": {},
   "source": [
    "## What is L1 Regularization (Lasso)?\n",
    "L1 regularization is a technique used in machine learning to make models simpler and easier to understand.\n",
    "\n",
    "It works by shrinking some of the model’s feature weights (coefficients).\n",
    "\n",
    "If a feature isn’t very important, L1 can reduce its weight all the way to zero.\n",
    "\n",
    "That means the model completely ignores some features — helping with feature selection and reducing complexity."
   ]
  },
  {
   "cell_type": "code",
   "execution_count": 22,
   "id": "d4efc90e",
   "metadata": {},
   "outputs": [],
   "source": [
    "# L1 penalty to shrink coefficients without removing any features from the model\n",
    "penalty= 'l1'\n",
    "# Our classification problem is multinomial\n",
    "multi_class = 'multinomial'\n",
    "# Use saga for L1 penalty and multinomial classes\n",
    "solver = 'saga'\n",
    "# Max iteration = 1000\n",
    "max_iter = 1000"
   ]
  },
  {
   "cell_type": "code",
   "execution_count": 24,
   "id": "00bb9011",
   "metadata": {},
   "outputs": [
    {
     "name": "stderr",
     "output_type": "stream",
     "text": [
      "c:\\Users\\user\\Desktop\\algorithmic_trading\\venv\\Lib\\site-packages\\sklearn\\linear_model\\_logistic.py:1247: FutureWarning: 'multi_class' was deprecated in version 1.5 and will be removed in 1.7. From then on, it will always use 'multinomial'. Leave it to its default value to avoid this warning.\n",
      "  warnings.warn(\n"
     ]
    }
   ],
   "source": [
    "# Define a logistic regression model with above arguments\n",
    "l1_model = LogisticRegression(random_state=rs, penalty=penalty, multi_class=multi_class, solver=solver, max_iter = 1000)\n",
    "\n",
    "l1_model.fit(X_train, y_train)\n",
    "\n",
    "l1_preds = l1_model.predict(X_test)\n",
    "\n"
   ]
  },
  {
   "cell_type": "markdown",
   "id": "6ccf01b4",
   "metadata": {},
   "source": [
    "## Checking Class Probabilities with predict_proba\n",
    "Instead of just predicting a final class label, we can use the model's predict_proba function to see the probability that an instance belongs to each class.\n",
    "\n",
    "This gives us more insight into how confident the model is about its prediction"
   ]
  },
  {
   "cell_type": "code",
   "execution_count": 25,
   "id": "ef762544",
   "metadata": {},
   "outputs": [
    {
     "data": {
      "text/plain": [
       "array([1.12315356e-01, 8.87684644e-01, 4.23890930e-11])"
      ]
     },
     "execution_count": 25,
     "metadata": {},
     "output_type": "execute_result"
    }
   ],
   "source": [
    "odd_ratios = l1_model.predict_proba(X_test[:1, :])[0]\n",
    "odd_ratios"
   ]
  },
  {
   "cell_type": "markdown",
   "id": "c29b8346",
   "metadata": {},
   "source": [
    "| **Class Label**     | **Probability**   | **Interpretation**                                     |\n",
    "| ------------------- | ----------------- | ------------------------------------------------------ |\n",
    "| `0 = In Moderation` | 0.1123 (≈ 11.23%) | Low chance the food should be eaten in moderation      |\n",
    "| `1 = Less Often`    | 0.8877 (≈ 88.77%) | Very high chance the food should be eaten less often ✅ |\n",
    "| `2 = More Often`    | 0.0000 (≈ 0%)     | Almost zero chance the food is recommended more often  |\n"
   ]
  },
  {
   "cell_type": "code",
   "execution_count": 26,
   "id": "d764ee51",
   "metadata": {},
   "outputs": [
    {
     "data": {
      "text/plain": [
       "{'accuracy': 0.8190045248868778,\n",
       " 'recall': array([0.87142857, 0.74644128, 0.87878788]),\n",
       " 'precision': array([0.79274966, 0.85963115, 0.81308411]),\n",
       " 'f1score': array([0.83022923, 0.79904762, 0.84466019])}"
      ]
     },
     "execution_count": 26,
     "metadata": {},
     "output_type": "execute_result"
    }
   ],
   "source": [
    "l1_model.predict(X_test[:1, :])[0]\n",
    "\n",
    "evaluate_metrics(y_test, l1_preds)"
   ]
  },
  {
   "cell_type": "markdown",
   "id": "b62aa421",
   "metadata": {},
   "source": [
    "| **Metric**    | **Class**         | **Value**  | **Explanation**                                                            |\n",
    "| ------------- | ----------------- | ---------- | -------------------------------------------------------------------------- |\n",
    "| **Accuracy**  | —                 | **0.8190** | Overall, the model correctly predicted **81.90%** of all samples.          |\n",
    "| **Recall**    | In Moderation (0) | 0.8714     | The model correctly identified **87.14%** of actual “In Moderation” items. |\n",
    "|               | Less Often (1)    | 0.7464     | Detected **74.64%** of actual “Less Often” items.                          |\n",
    "|               | More Often (2)    | 0.8788     | Detected **87.88%** of actual “More Often” items — very strong recall.     |\n",
    "| **Precision** | In Moderation (0) | 0.7927     | Of predicted “In Moderation” items, **79.27%** were actually correct.      |\n",
    "|               | Less Often (1)    | 0.8596     | Very few false positives for “Less Often” class.                           |\n",
    "|               | More Often (2)    | 0.8131     | Strong precision — 81.31% of predicted “More Often” items were correct.    |\n",
    "| **F1 Score**  | In Moderation (0) | 0.8302     | Balanced performance between precision and recall for class 0.             |\n",
    "|               | Less Often (1)    | 0.7990     | Good balance for class 1.                                                  |\n",
    "|               | More Often (2)    | 0.8447     | Excellent overall performance for class 2.                                 |\n"
   ]
  },
  {
   "cell_type": "markdown",
   "id": "5e9a720b",
   "metadata": {},
   "source": [
    "L1 vs L2 Performance Comparison\n",
    "We observe that the logistic regression model with L1 penalty performs significantly better than the one with L2 penalty.\n",
    "\n",
    "One possible reason for this is that L1 regularization can eliminate less important or highly correlated features by shrinking their coefficients to zero. This results in a simpler and more interpretable model, which is less likely to overfit.\n",
    "\n",
    "This behavior also aligns well with a core assumption of logistic regression — that features should be independent of each other. By removing redundant features, L1 regularization can lead to better generalization on unseen data."
   ]
  },
  {
   "cell_type": "markdown",
   "id": "fbb0ded0",
   "metadata": {},
   "source": [
    "### Confusion Matrix"
   ]
  },
  {
   "cell_type": "code",
   "execution_count": 27,
   "id": "42c6cadb",
   "metadata": {},
   "outputs": [
    {
     "data": {
      "image/png": "[encoded data removed]",
      "text/plain": [
       "<Figure size 640x480 with 2 Axes>"
      ]
     },
     "metadata": {},
     "output_type": "display_data"
    }
   ],
   "source": [
    "cf = confusion_matrix(y_test, l1_preds, normalize='true')\n",
    "\n",
    "sns.set_context('talk')\n",
    "disp = ConfusionMatrixDisplay(confusion_matrix=cf,display_labels=l1_model.classes_)\n",
    "disp.plot()\n",
    "plt.show()"
   ]
  },
  {
   "cell_type": "markdown",
   "id": "c7025ecb",
   "metadata": {},
   "source": [
    "### Interpret logistic regression models\n",
    "\n",
    " Interpreting Feature Coefficients in Logistic Regression\n",
    "One useful way to understand a logistic regression model is by looking at its feature coefficients.\n",
    "\n",
    "While interpretation isn't as direct as in linear regression—because logistic regression uses a sigmoid function to map values to probabilities—we can still gain insights:\n",
    "\n",
    "A larger absolute value of a coefficient indicates a stronger influence on the prediction.\n",
    "\n",
    "A positive coefficient increases the likelihood of predicting a higher class.\n",
    "\n",
    "A negative coefficient decreases that likelihood.\n",
    "\n",
    "So even though it's not a perfect one-to-one interpretation, analyzing coefficients still helps us understand which features matter most in the model’s decision-making."
   ]
  },
  {
   "cell_type": "code",
   "execution_count": 28,
   "id": "9218d418",
   "metadata": {},
   "outputs": [
    {
     "data": {
      "text/plain": [
       "array([[ 1.23942505e+01,  0.00000000e+00,  0.00000000e+00,\n",
       "         5.89704209e+00,  0.00000000e+00, -4.38008938e+00,\n",
       "         0.00000000e+00,  6.82223064e-01,  0.00000000e+00,\n",
       "         2.15114222e+01,  0.00000000e+00,  0.00000000e+00,\n",
       "         4.44191853e+00,  0.00000000e+00,  0.00000000e+00,\n",
       "         1.57345332e+00,  0.00000000e+00],\n",
       "       [ 0.00000000e+00,  4.99421716e+00,  2.32194666e+01,\n",
       "         0.00000000e+00,  0.00000000e+00,  0.00000000e+00,\n",
       "         6.49498204e+00,  0.00000000e+00,  2.38633110e+00,\n",
       "        -8.36161009e+00,  1.49683748e+01,  3.30731928e+00,\n",
       "         0.00000000e+00, -2.04556094e+00,  0.00000000e+00,\n",
       "        -8.71073063e-02,  0.00000000e+00],\n",
       "       [-1.11725762e+02, -2.88584701e+01,  0.00000000e+00,\n",
       "         0.00000000e+00,  0.00000000e+00,  0.00000000e+00,\n",
       "         0.00000000e+00, -1.26328878e+00, -3.78273458e+01,\n",
       "         0.00000000e+00, -3.62928661e+00,  0.00000000e+00,\n",
       "        -7.40074960e-01,  0.00000000e+00,  0.00000000e+00,\n",
       "         0.00000000e+00,  0.00000000e+00]])"
      ]
     },
     "execution_count": 28,
     "metadata": {},
     "output_type": "execute_result"
    }
   ],
   "source": [
    "l1_model.coef_"
   ]
  },
  {
   "cell_type": "markdown",
   "id": "f147d652",
   "metadata": {},
   "source": [
    "# Analyzing Coefficients by Class"
   ]
  },
  {
   "cell_type": "markdown",
   "id": "f3ae33e5",
   "metadata": {},
   "source": [
    "The coef_ attribute in our logistic regression model contains a list of coefficient arrays, one for each class (0 = In Moderation, 1 = Less Often, 2 = More Often).\n",
    "\n",
    "Each array shows how the features influence the model's predictions for that specific class.\n",
    "\n",
    "To better understand and compare these coefficients, we define three utility functions that will:\n",
    "\n",
    "Sort the coefficients from most negative to most positive\n",
    "\n",
    "Display them in a readable table\n",
    "\n",
    "Visualize them in a bar chart\n",
    "\n",
    "This makes it easier to interpret the importance and direction of each feature's effect on the model's decision for each class."
   ]
  },
  {
   "cell_type": "code",
   "execution_count": 30,
   "id": "50aafa7a",
   "metadata": {},
   "outputs": [],
   "source": [
    "# Extract and sort feature coefficients\n",
    "def get_feature_coefs(regression_model, label_index, columns):\n",
    "    coef_dict = {}\n",
    "    for coef, feat in zip(regression_model.coef_[label_index, :], columns):\n",
    "        if abs(coef) >= 0.01:\n",
    "            coef_dict[feat] = coef\n",
    "    # Sort coefficients\n",
    "    coef_dict = {k: v for k, v in sorted(coef_dict.items(), key=lambda item: item[1])}\n",
    "    return coef_dict\n",
    "\n",
    "# Generate bar colors based on if value is negative or positive\n",
    "def get_bar_colors(values):\n",
    "    color_vals = []\n",
    "    for val in values:\n",
    "        if val <= 0:\n",
    "            color_vals.append('r')\n",
    "        else:\n",
    "            color_vals.append('g')\n",
    "    return color_vals\n",
    "\n",
    "# Visualize coefficients\n",
    "def visualize_coefs(coef_dict):\n",
    "    features = list(coef_dict.keys())\n",
    "    values = list(coef_dict.values())\n",
    "    y_pos = np.arange(len(features))\n",
    "    color_vals = get_bar_colors(values)\n",
    "    plt.rcdefaults()\n",
    "    fig, ax = plt.subplots()\n",
    "    ax.barh(y_pos, values, align='center', color=color_vals)\n",
    "    ax.set_yticks(y_pos)\n",
    "    ax.set_yticklabels(features)\n",
    "    # labels read top-to-bottom\n",
    "    ax.invert_yaxis()  \n",
    "    ax.set_xlabel('Feature Coefficients')\n",
    "    ax.set_title('')\n",
    "    plt.show()"
   ]
  },
  {
   "cell_type": "code",
   "execution_count": 31,
   "id": "2ad29328",
   "metadata": {},
   "outputs": [],
   "source": [
    "# Get the coefficents for Class 1, Less Often\n",
    "coef_dict = get_feature_coefs(l1_model, 1, feature_cols)"
   ]
  },
  {
   "cell_type": "code",
   "execution_count": 32,
   "id": "fcbbd813",
   "metadata": {},
   "outputs": [
    {
     "data": {
      "image/png": "[encoded data removed]",
      "text/plain": [
       "<Figure size 640x480 with 1 Axes>"
      ]
     },
     "metadata": {},
     "output_type": "display_data"
    }
   ],
   "source": [
    "visualize_coefs(coef_dict)"
   ]
  },
  {
   "cell_type": "markdown",
   "id": "2896bcf5",
   "metadata": {},
   "source": [
    "Nutrient Impact on Classification\n",
    "From the coefficient analysis, we can see that unhealthy nutrients—such as Saturated Fat, Sugars, Cholesterol, and Total Fat—have high positive coefficients for the ‘Less Often’ class.\n",
    "\n",
    "This means that food items with higher amounts of these nutrients are more likely to be classified as ‘Less Often’, which aligns with dietary guidelines for people with diabetes.\n",
    "\n",
    "In other words, the model has learned that high levels of these nutrients are associated with foods that should be eaten less frequently."
   ]
  },
  {
   "cell_type": "code",
   "execution_count": 34,
   "id": "d6dbc373",
   "metadata": {},
   "outputs": [
    {
     "data": {
      "image/png": "[encoded data removed]",
      "text/plain": [
       "<Figure size 640x480 with 1 Axes>"
      ]
     },
     "metadata": {},
     "output_type": "display_data"
    }
   ],
   "source": [
    "# Coefficients for Class 2\n",
    "coef_dict = get_feature_coefs(l1_model, 2, feature_cols)\n",
    "visualize_coefs(coef_dict)"
   ]
  },
  {
   "cell_type": "markdown",
   "id": "59a34efe",
   "metadata": {},
   "source": [
    "## Coding Exercise: Train and evaluate a logistic regression model with elastic-net penality\n"
   ]
  },
  {
   "cell_type": "code",
   "execution_count": 41,
   "id": "233dfdab",
   "metadata": {},
   "outputs": [
    {
     "name": "stderr",
     "output_type": "stream",
     "text": [
      "c:\\Users\\user\\Desktop\\algorithmic_trading\\venv\\Lib\\site-packages\\sklearn\\linear_model\\_logistic.py:1247: FutureWarning: 'multi_class' was deprecated in version 1.5 and will be removed in 1.7. From then on, it will always use 'multinomial'. Leave it to its default value to avoid this warning.\n",
      "  warnings.warn(\n"
     ]
    },
    {
     "name": "stdout",
     "output_type": "stream",
     "text": [
      "Elastic Net Model Evaluation:\n",
      "accuracy: 0.797134238310709\n",
      "recall: [0.87518797 0.74377224 0.57575758]\n",
      "precision: [0.7578125  0.85132383 0.85074627]\n",
      "f1score: [0.81228193 0.79392213 0.68674699]\n"
     ]
    }
   ],
   "source": [
    "from sklearn.metrics import f1_score\n",
    "\n",
    "# Logistic Regression with Elastic Net Penalty\n",
    "elastic_net_model = LogisticRegression(\n",
    "    penalty='elasticnet',\n",
    "    solver='saga',               # saga supports elasticnet\n",
    "    l1_ratio=0.5,                # 0.0 = L2 only, 1.0 = L1 only, 0.5 = equal mix\n",
    "    C=1.0,                       # Regularization strength\n",
    "    max_iter=10000,\n",
    "    multi_class='multinomial',  # Required for multiclass classification\n",
    "    random_state=rs\n",
    ")\n",
    "\n",
    "\n",
    "# Fit model\n",
    "elastic_net_model.fit(X_train, y_train)\n",
    "\n",
    "# Predict\n",
    "y_pred = elastic_net_model.predict(X_test)\n",
    "\n",
    "# Evaluate\n",
    "metrics_dict = {\n",
    "    'accuracy': accuracy_score(y_test, y_pred),\n",
    "    'recall': recall_score(y_test, y_pred, average=None),\n",
    "    'precision': precision_score(y_test, y_pred, average=None),\n",
    "    'f1score': f1_score(y_test, y_pred, average=None)\n",
    "}\n",
    "\n",
    "print(\"Elastic Net Model Evaluation:\")\n",
    "for k, v in metrics_dict.items():\n",
    "    print(f\"{k}: {v}\")\n"
   ]
  },
  {
   "cell_type": "markdown",
   "id": "7865cbea",
   "metadata": {},
   "source": [
    "| **Metric**    | **Class**         | **Value**  | **Explanation**                                                          |\n",
    "| ------------- | ----------------- | ---------- | ------------------------------------------------------------------------ |\n",
    "| **Accuracy**  | —                 | **0.7971** | The model correctly predicted **79.71%** of all test samples.            |\n",
    "| **Recall**    | In Moderation (0) | 0.8752     | 87.52% of actual \"In Moderation\" items were correctly identified.        |\n",
    "|               | Less Often (1)    | 0.7438     | 74.38% of \"Less Often\" items were detected.                              |\n",
    "|               | More Often (2)    | 0.5758     | 57.58% of \"More Often\" items were detected — moderate sensitivity.       |\n",
    "| **Precision** | In Moderation (0) | 0.7578     | 75.78% of predicted \"In Moderation\" items were correct.                  |\n",
    "|               | Less Often (1)    | 0.8513     | Very few false positives for \"Less Often\" class.                         |\n",
    "|               | More Often (2)    | 0.8507     | Strong confidence when predicting \"More Often\" items.                    |\n",
    "| **F1 Score**  | In Moderation (0) | 0.8123     | Balanced performance for class 0.                                        |\n",
    "|               | Less Often (1)    | 0.7939     | Strong performance for class 1.                                          |\n",
    "|               | More Often (2)    | 0.6867     | Decent performance, but affected by lower recall despite high precision. |\n"
   ]
  }
 ],
 "metadata": {
  "kernelspec": {
   "display_name": "venv",
   "language": "python",
   "name": "python3"
  },
  "language_info": {
   "codemirror_mode": {
    "name": "ipython",
    "version": 3
   },
   "file_extension": ".py",
   "mimetype": "text/x-python",
   "name": "python",
   "nbconvert_exporter": "python",
   "pygments_lexer": "ipython3",
   "version": "3.12.8"
  }
 },
 "nbformat": 4,
 "nbformat_minor": 5
}
